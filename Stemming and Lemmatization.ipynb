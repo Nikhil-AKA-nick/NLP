{
 "cells": [
  {
   "cell_type": "code",
   "execution_count": 1,
   "id": "2288d4cc",
   "metadata": {},
   "outputs": [],
   "source": [
    "import nltk\n",
    "import spacy"
   ]
  },
  {
   "cell_type": "code",
   "execution_count": 2,
   "id": "75f162db",
   "metadata": {},
   "outputs": [],
   "source": [
    "from nltk.stem import PorterStemmer\n",
    "\n",
    "stemmer = PorterStemmer()"
   ]
  },
  {
   "cell_type": "code",
   "execution_count": 3,
   "id": "df942b92",
   "metadata": {},
   "outputs": [],
   "source": [
    "words = [\"eating\", \"eats\", \"eat\", \"ate\", \"adjustable\", \"rafting\", \"ability\", \"meeting\"]"
   ]
  },
  {
   "cell_type": "code",
   "execution_count": 5,
   "id": "b233d647",
   "metadata": {},
   "outputs": [
    {
     "name": "stdout",
     "output_type": "stream",
     "text": [
      "eating  |  eat\n",
      "eats  |  eat\n",
      "eat  |  eat\n",
      "ate  |  ate\n",
      "adjustable  |  adjust\n",
      "rafting  |  raft\n",
      "ability  |  abil\n",
      "meeting  |  meet\n"
     ]
    }
   ],
   "source": [
    "for word in words :\n",
    "    print(word,\" | \", stemmer.stem(word))"
   ]
  },
  {
   "cell_type": "code",
   "execution_count": 7,
   "id": "06232ddd",
   "metadata": {},
   "outputs": [
    {
     "name": "stdout",
     "output_type": "stream",
     "text": [
      "eating  |  eating\n",
      "eats  |  eat\n",
      "eat  |  eat\n",
      "ate  |  eat\n",
      "adjustable  |  adjustable\n",
      "rafting  |  raft\n",
      "ability  |  ability\n",
      "meeting  |  meeting\n",
      "better  |  well\n"
     ]
    }
   ],
   "source": [
    "nlp = spacy.load(\"en_core_web_sm\")\n",
    "\n",
    "doc = nlp(\"eating eats eat ate adjustable rafting ability meeting better\")\n",
    "\n",
    "for tokens in doc :\n",
    "    print(tokens,\" | \",tokens.lemma_)"
   ]
  },
  {
   "cell_type": "code",
   "execution_count": 10,
   "id": "96dcfe73",
   "metadata": {},
   "outputs": [
    {
     "data": {
      "text/plain": [
       "['tok2vec', 'tagger', 'parser', 'attribute_ruler', 'lemmatizer', 'ner']"
      ]
     },
     "execution_count": 10,
     "metadata": {},
     "output_type": "execute_result"
    }
   ],
   "source": [
    "nlp.pipe_names"
   ]
  },
  {
   "cell_type": "code",
   "execution_count": 8,
   "id": "9e127a72",
   "metadata": {},
   "outputs": [
    {
     "name": "stdout",
     "output_type": "stream",
     "text": [
      "Bro  |  Bro\n",
      ",  |  ,\n",
      "you  |  you\n",
      "wanna  |  wanna\n",
      "go  |  go\n",
      "?  |  ?\n",
      "Brah  |  Brah\n",
      ",  |  ,\n",
      "do  |  do\n",
      "n't  |  not\n",
      "say  |  say\n",
      "no  |  no\n",
      "!  |  !\n",
      "I  |  I\n",
      "am  |  be\n",
      "exhausted  |  exhaust\n"
     ]
    }
   ],
   "source": [
    "doc = nlp(\"Bro, you wanna go? Brah, don't say no! I am exhausted\")\n",
    "\n",
    "for tokens in doc:\n",
    "    print(tokens,\" | \", tokens.lemma_)"
   ]
  },
  {
   "cell_type": "code",
   "execution_count": 12,
   "id": "773c72e7",
   "metadata": {},
   "outputs": [
    {
     "name": "stdout",
     "output_type": "stream",
     "text": [
      "Bro  |  Brother\n",
      ",  |  ,\n",
      "you  |  you\n",
      "wanna  |  wanna\n",
      "go  |  go\n",
      "?  |  ?\n",
      "Brah  |  Brother\n",
      ",  |  ,\n",
      "do  |  do\n",
      "n't  |  not\n",
      "say  |  say\n",
      "no  |  no\n",
      "!  |  !\n",
      "I  |  I\n",
      "am  |  be\n",
      "exhausted  |  exhaust\n"
     ]
    }
   ],
   "source": [
    "ar = nlp.get_pipe(\"attribute_ruler\")\n",
    "\n",
    "ar.add([[{\"TEXT\" : \"Bro\"}],[{\"TEXT\" : \"Brah\"}]], {\"LEMMA\" : \"Brother\"})\n",
    "\n",
    "doc = nlp(\"Bro, you wanna go? Brah, don't say no! I am exhausted\")\n",
    "\n",
    "for tokens in doc :\n",
    "    print(tokens, \" | \", tokens.lemma_)"
   ]
  },
  {
   "cell_type": "code",
   "execution_count": 13,
   "id": "2fd2b76a",
   "metadata": {},
   "outputs": [],
   "source": [
    "#using stemming in nltk\n",
    "lst_words = ['running', 'painting', 'walking', 'dressing', 'likely', 'children', 'whom', 'good', 'ate', 'fishing']\n"
   ]
  },
  {
   "cell_type": "code",
   "execution_count": 14,
   "id": "959e3c53",
   "metadata": {},
   "outputs": [
    {
     "name": "stdout",
     "output_type": "stream",
     "text": [
      "running  |  run\n",
      "painting  |  paint\n",
      "walking  |  walk\n",
      "dressing  |  dress\n",
      "likely  |  like\n",
      "children  |  children\n",
      "whom  |  whom\n",
      "good  |  good\n",
      "ate  |  ate\n",
      "fishing  |  fish\n"
     ]
    }
   ],
   "source": [
    "for word in lst_words:\n",
    "    print(word, \" | \", stemmer.stem(word))"
   ]
  },
  {
   "cell_type": "code",
   "execution_count": 15,
   "id": "46f93d6b",
   "metadata": {},
   "outputs": [
    {
     "name": "stdout",
     "output_type": "stream",
     "text": [
      "running  |  run\n",
      "painting  |  painting\n",
      "walking  |  walking\n",
      "dressing  |  dress\n",
      "likely  |  likely\n",
      "children  |  child\n",
      "who  |  who\n",
      "good  |  good\n",
      "ate  |  eat\n",
      "fishing  |  fishing\n"
     ]
    }
   ],
   "source": [
    "doc = nlp(\"running painting walking dressing likely children who good ate fishing\")\n",
    "\n",
    "for word in doc :\n",
    "    print(word, \" | \", word.lemma_)"
   ]
  },
  {
   "cell_type": "code",
   "execution_count": 16,
   "id": "739e574f",
   "metadata": {},
   "outputs": [],
   "source": [
    "text = \"\"\"Latha is very multi talented girl.She is good at many skills like dancing, running, singing, playing.She also likes eating Pav Bhagi. she has a \n",
    "habit of fishing and swimming too.Besides all this, she is a wonderful at cooking too.\n",
    "\"\"\""
   ]
  },
  {
   "cell_type": "code",
   "execution_count": 32,
   "id": "de384b9c",
   "metadata": {},
   "outputs": [
    {
     "name": "stdout",
     "output_type": "stream",
     "text": [
      "Latha be very multi talented girl . she be good at many skill like dancing , running , singing , play . she also like eat Pav Bhagi . she have a \n",
      " habit of fishing and swim too . besides all this , she be a wonderful at cook too . \n",
      " \n"
     ]
    }
   ],
   "source": [
    "st = \"\"\n",
    "doc = nlp(text)\n",
    "for token in doc :\n",
    "    st = st+token.lemma_+\" \"\n",
    "print(st)"
   ]
  },
  {
   "cell_type": "code",
   "execution_count": 27,
   "id": "070d50ed",
   "metadata": {},
   "outputs": [
    {
     "name": "stdout",
     "output_type": "stream",
     "text": [
      "Latha  |  Latha\n",
      "is  |  be\n",
      "very  |  very\n",
      "multi  |  multi\n",
      "talented  |  talented\n",
      "girl  |  girl\n",
      ".  |  .\n",
      "She  |  she\n",
      "is  |  be\n",
      "good  |  good\n",
      "at  |  at\n",
      "many  |  many\n",
      "skills  |  skill\n",
      "like  |  like\n",
      "dancing  |  dancing\n",
      ",  |  ,\n",
      "running  |  running\n",
      ",  |  ,\n",
      "singing  |  singing\n",
      ",  |  ,\n",
      "playing  |  play\n",
      ".  |  .\n",
      "She  |  she\n",
      "also  |  also\n",
      "likes  |  like\n",
      "eating  |  eat\n",
      "Pav  |  Pav\n",
      "Bhagi  |  Bhagi\n",
      ".  |  .\n",
      "she  |  she\n",
      "has  |  have\n",
      "a  |  a\n",
      "\n",
      "  |  \n",
      "\n",
      "habit  |  habit\n",
      "of  |  of\n",
      "fishing  |  fishing\n",
      "and  |  and\n",
      "swimming  |  swim\n",
      "too  |  too\n",
      ".  |  .\n",
      "Besides  |  besides\n",
      "all  |  all\n",
      "this  |  this\n",
      ",  |  ,\n",
      "she  |  she\n",
      "is  |  be\n",
      "a  |  a\n",
      "wonderful  |  wonderful\n",
      "at  |  at\n",
      "cooking  |  cook\n",
      "too  |  too\n",
      ".  |  .\n",
      "\n",
      "  |  \n",
      "\n"
     ]
    }
   ],
   "source": [
    "for token  in doc :\n",
    "    print(token, \" | \", token.lemma_)"
   ]
  },
  {
   "cell_type": "code",
   "execution_count": 33,
   "id": "5d1c4b08",
   "metadata": {},
   "outputs": [
    {
     "data": {
      "text/plain": [
       "['Latha',\n",
       " 'be',\n",
       " 'very',\n",
       " 'multi',\n",
       " 'talented',\n",
       " 'girl',\n",
       " '.',\n",
       " 'she',\n",
       " 'be',\n",
       " 'good',\n",
       " 'at',\n",
       " 'many',\n",
       " 'skill',\n",
       " 'like',\n",
       " 'dancing',\n",
       " ',',\n",
       " 'running',\n",
       " ',',\n",
       " 'singing',\n",
       " ',',\n",
       " 'play',\n",
       " '.',\n",
       " 'she',\n",
       " 'also',\n",
       " 'like',\n",
       " 'eat',\n",
       " 'Pav',\n",
       " 'Bhagi',\n",
       " '.',\n",
       " 'she',\n",
       " 'have',\n",
       " 'a',\n",
       " '\\n',\n",
       " 'habit',\n",
       " 'of',\n",
       " 'fishing',\n",
       " 'and',\n",
       " 'swim',\n",
       " 'too',\n",
       " '.',\n",
       " 'besides',\n",
       " 'all',\n",
       " 'this',\n",
       " ',',\n",
       " 'she',\n",
       " 'be',\n",
       " 'a',\n",
       " 'wonderful',\n",
       " 'at',\n",
       " 'cook',\n",
       " 'too',\n",
       " '.',\n",
       " '\\n']"
      ]
     },
     "execution_count": 33,
     "metadata": {},
     "output_type": "execute_result"
    }
   ],
   "source": [
    "lst = []\n",
    "doc = nlp(text)\n",
    "for token in doc :\n",
    "    lst.append(token.lemma_)\n",
    "lst"
   ]
  },
  {
   "cell_type": "code",
   "execution_count": 39,
   "id": "1c609e80",
   "metadata": {},
   "outputs": [
    {
     "data": {
      "text/plain": [
       "'Latha be very multi talented girl . she be good at many skill like dancing , running , singing , play . she also like eat Pav Bhagi . she have a \\n habit of fishing and swim too . besides all this , she be a wonderful at cook too . \\n'"
      ]
     },
     "execution_count": 39,
     "metadata": {},
     "output_type": "execute_result"
    }
   ],
   "source": [
    "\" \".join(str(e) for e in lst)"
   ]
  },
  {
   "cell_type": "code",
   "execution_count": null,
   "id": "1ce72497",
   "metadata": {},
   "outputs": [],
   "source": []
  }
 ],
 "metadata": {
  "kernelspec": {
   "display_name": "Python 3 (ipykernel)",
   "language": "python",
   "name": "python3"
  },
  "language_info": {
   "codemirror_mode": {
    "name": "ipython",
    "version": 3
   },
   "file_extension": ".py",
   "mimetype": "text/x-python",
   "name": "python",
   "nbconvert_exporter": "python",
   "pygments_lexer": "ipython3",
   "version": "3.9.7"
  }
 },
 "nbformat": 4,
 "nbformat_minor": 5
}
